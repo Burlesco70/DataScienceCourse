{
 "cells": [
  {
   "cell_type": "markdown",
   "metadata": {},
   "source": [
    "# Generators are iterators with a much lighter syntax. \n",
    "\n",
    "I generators sembrano come le **list comprehensions**, con la differenza che sono circondati da parantesi tonde `()` anzichè quadre `[]`. \n",
    "\n",
    "Generators più *complicati* sono definiti come funzioni con differenza che contengono `yield` anzichè `return`. \n",
    "\n",
    "Un generator mantiene lo stato durante le chiamate; l'esecuzione riprende immediatamente dopo l'ultimo `yield` e continua fino al `yield` successivo. \n"
   ]
  },
  {
   "cell_type": "code",
   "execution_count": 1,
   "metadata": {},
   "outputs": [
    {
     "name": "stdout",
     "output_type": "stream",
     "text": [
      "<generator object <genexpr> at 0x00000183323DFAF0>\n"
     ]
    }
   ],
   "source": [
    "y = (x*x for x in range(30)) \n",
    "print(y) # hmm..."
   ]
  },
  {
   "cell_type": "code",
   "execution_count": 2,
   "metadata": {
    "collapsed": true
   },
   "outputs": [],
   "source": [
    "def xsquared(): \n",
    "    for i in range(30): \n",
    "        yield i*i "
   ]
  },
  {
   "cell_type": "code",
   "execution_count": 3,
   "metadata": {
    "collapsed": true
   },
   "outputs": [],
   "source": [
    "# Infinite version\n",
    "def xsquared_inf(): \n",
    "    x = 0 \n",
    "    while True: \n",
    "        yield x*x \n",
    "        x += 1 "
   ]
  },
  {
   "cell_type": "code",
   "execution_count": 4,
   "metadata": {},
   "outputs": [
    {
     "name": "stdout",
     "output_type": "stream",
     "text": [
      "[0, 1, 4, 9, 16, 25, 36, 49, 64, 81, 100, 121, 144, 169, 196, 225, 256, 289, 324, 361, 400, 441, 484, 529, 576, 625, 676, 729, 784, 841]\n"
     ]
    }
   ],
   "source": [
    "squares = [x for x in xsquared()] \n",
    "print(squares) "
   ]
  },
  {
   "cell_type": "markdown",
   "metadata": {},
   "source": [
    "## Es. 1 - Generatore di giorni della settimana\n",
    "\n"
   ]
  },
  {
   "cell_type": "code",
   "execution_count": 5,
   "metadata": {},
   "outputs": [
    {
     "data": {
      "text/plain": [
       "<generator object day_of_week at 0x00000183323DFE08>"
      ]
     },
     "execution_count": 5,
     "metadata": {},
     "output_type": "execute_result"
    }
   ],
   "source": [
    "def day_of_week(): \n",
    "    i = 0 \n",
    "    days = [\"Monday\",\"Tuesday\",\"Wednesday\",\"Thursday\",\"Friday\",\"Saturday\",\"Sunday\"] \n",
    "    while True: \n",
    "        yield days[i%7] \n",
    "        i += 1 \n",
    "day_of_week()"
   ]
  },
  {
   "cell_type": "code",
   "execution_count": 6,
   "metadata": {
    "collapsed": true
   },
   "outputs": [],
   "source": [
    "import random \n",
    "def snowday(prob=.01):\n",
    "    # Randmon between 0 and 1\n",
    "    r = random.random()\n",
    "    #print(r)\n",
    "    if r < prob: \n",
    "        return \"snowday!\" \n",
    "    else: \n",
    "        return \"regular day.\" "
   ]
  },
  {
   "cell_type": "code",
   "execution_count": 7,
   "metadata": {},
   "outputs": [
    {
     "name": "stdout",
     "output_type": "stream",
     "text": [
      "Monday is a regular day.\n",
      "Tuesday is a regular day.\n",
      "Wednesday is a regular day.\n",
      "Thursday is a regular day.\n",
      "Friday is a regular day.\n",
      "Saturday is a regular day.\n",
      "Sunday is a regular day.\n",
      "Monday is a regular day.\n",
      "Tuesday is a regular day.\n",
      "Wednesday is a regular day.\n",
      "Thursday is a regular day.\n",
      "Friday is a regular day.\n",
      "Saturday is a regular day.\n",
      "Sunday is a regular day.\n",
      "Monday is a regular day.\n",
      "Tuesday is a regular day.\n",
      "Wednesday is a regular day.\n",
      "Thursday is a regular day.\n",
      "Friday is a regular day.\n",
      "Saturday is a regular day.\n",
      "Sunday is a regular day.\n",
      "Monday is a regular day.\n",
      "Tuesday is a regular day.\n",
      "Wednesday is a regular day.\n",
      "Thursday is a regular day.\n",
      "Friday is a regular day.\n",
      "Saturday is a regular day.\n",
      "Sunday is a regular day.\n",
      "Monday is a regular day.\n",
      "Tuesday is a regular day.\n",
      "Wednesday is a regular day.\n",
      "Thursday is a regular day.\n",
      "Friday is a regular day.\n",
      "Saturday is a regular day.\n",
      "Sunday is a regular day.\n",
      "Monday is a regular day.\n",
      "Tuesday is a regular day.\n",
      "Wednesday is a regular day.\n",
      "Thursday is a regular day.\n",
      "Friday is a regular day.\n",
      "Saturday is a regular day.\n",
      "Sunday is a regular day.\n",
      "Monday is a regular day.\n",
      "Tuesday is a regular day.\n",
      "Wednesday is a regular day.\n",
      "Thursday is a regular day.\n",
      "Friday is a regular day.\n",
      "Saturday is a regular day.\n",
      "Sunday is a regular day.\n",
      "Monday is a regular day.\n",
      "Tuesday is a regular day.\n",
      "Wednesday is a regular day.\n",
      "Thursday is a regular day.\n",
      "Friday is a regular day.\n",
      "Saturday is a regular day.\n",
      "Sunday is a regular day.\n",
      "Monday is a regular day.\n",
      "Tuesday is a regular day.\n",
      "Wednesday is a regular day.\n",
      "Thursday is a regular day.\n",
      "Friday is a regular day.\n",
      "Saturday is a regular day.\n",
      "Sunday is a regular day.\n",
      "Monday is a regular day.\n",
      "Tuesday is a regular day.\n",
      "Wednesday is a regular day.\n",
      "Thursday is a regular day.\n",
      "Friday is a regular day.\n",
      "Saturday is a regular day.\n",
      "Sunday is a regular day.\n",
      "Monday is a regular day.\n",
      "Tuesday is a regular day.\n",
      "Wednesday is a regular day.\n",
      "Thursday is a regular day.\n",
      "Friday is a regular day.\n",
      "Saturday is a regular day.\n",
      "Sunday is a regular day.\n",
      "Monday is a regular day.\n",
      "Tuesday is a regular day.\n",
      "Wednesday is a regular day.\n",
      "Thursday is a regular day.\n",
      "Friday is a regular day.\n",
      "Saturday is a regular day.\n",
      "Sunday is a regular day.\n",
      "Monday is a regular day.\n",
      "Tuesday is a regular day.\n",
      "Wednesday is a regular day.\n",
      "Thursday is a regular day.\n",
      "Friday is a regular day.\n",
      "Saturday is a regular day.\n",
      "Sunday is a regular day.\n",
      "Monday is a regular day.\n",
      "Tuesday is a regular day.\n",
      "Wednesday is a regular day.\n",
      "Thursday is a regular day.\n",
      "Friday is a regular day.\n",
      "Saturday is a regular day.\n",
      "Sunday is a regular day.\n",
      "Monday is a regular day.\n",
      "Tuesday is a regular day.\n",
      "Wednesday is a regular day.\n",
      "Thursday is a regular day.\n",
      "Friday is a regular day.\n",
      "Saturday is a regular day.\n",
      "Sunday is a regular day.\n",
      "Monday is a regular day.\n",
      "Tuesday is a regular day.\n",
      "Wednesday is a regular day.\n",
      "Thursday is a regular day.\n",
      "Friday is a regular day.\n",
      "Saturday is a regular day.\n",
      "Sunday is a regular day.\n",
      "Monday is a regular day.\n",
      "Tuesday is a regular day.\n",
      "Wednesday is a regular day.\n",
      "Thursday is a regular day.\n",
      "Friday is a regular day.\n",
      "Saturday is a regular day.\n",
      "Sunday is a regular day.\n",
      "Monday is a regular day.\n",
      "Tuesday is a regular day.\n",
      "Wednesday is a regular day.\n",
      "Thursday is a regular day.\n",
      "Friday is a regular day.\n",
      "Saturday is a regular day.\n",
      "Sunday is a regular day.\n",
      "Monday is a regular day.\n",
      "Tuesday is a regular day.\n",
      "Wednesday is a regular day.\n",
      "Thursday is a regular day.\n",
      "Friday is a regular day.\n",
      "Saturday is a regular day.\n",
      "Sunday is a regular day.\n",
      "Monday is a regular day.\n",
      "Tuesday is a regular day.\n",
      "Wednesday is a regular day.\n",
      "Thursday is a regular day.\n",
      "Friday is a regular day.\n",
      "Saturday is a regular day.\n",
      "Sunday is a regular day.\n",
      "Monday is a regular day.\n",
      "Tuesday is a regular day.\n",
      "Wednesday is a regular day.\n",
      "Thursday is a regular day.\n",
      "Friday is a regular day.\n",
      "Saturday is a regular day.\n",
      "Sunday is a regular day.\n",
      "Monday is a regular day.\n",
      "Tuesday is a regular day.\n",
      "Wednesday is a regular day.\n",
      "Thursday is a regular day.\n",
      "Friday is a regular day.\n",
      "Saturday is a regular day.\n",
      "Sunday is a regular day.\n",
      "Monday is a regular day.\n",
      "Tuesday is a regular day.\n",
      "Wednesday is a regular day.\n",
      "Thursday is a regular day.\n",
      "Friday is a regular day.\n",
      "Saturday is a regular day.\n",
      "Sunday is a regular day.\n",
      "Monday is a regular day.\n",
      "Tuesday is a regular day.\n",
      "Wednesday is a regular day.\n",
      "Thursday is a regular day.\n",
      "Friday is a regular day.\n",
      "Saturday is a regular day.\n",
      "Sunday is a regular day.\n",
      "Monday is a regular day.\n",
      "Tuesday is a regular day.\n",
      "Wednesday is a regular day.\n",
      "Thursday is a regular day.\n",
      "Friday is a regular day.\n",
      "Saturday is a regular day.\n",
      "Sunday is a regular day.\n",
      "Monday is a regular day.\n",
      "Tuesday is a regular day.\n",
      "Wednesday is a regular day.\n",
      "Thursday is a regular day.\n",
      "Friday is a regular day.\n",
      "Saturday is a regular day.\n",
      "Sunday is a regular day.\n",
      "Monday is a regular day.\n",
      "Tuesday is a regular day.\n",
      "Wednesday is a regular day.\n",
      "Thursday is a regular day.\n",
      "Friday is a regular day.\n",
      "Saturday is a regular day.\n",
      "Sunday is a regular day.\n",
      "Monday is a regular day.\n",
      "Tuesday is a regular day.\n",
      "Wednesday is a regular day.\n",
      "Thursday is a regular day.\n",
      "Friday is a regular day.\n",
      "Saturday is a regular day.\n",
      "Sunday is a regular day.\n",
      "Monday is a regular day.\n",
      "Tuesday is a regular day.\n",
      "Wednesday is a regular day.\n",
      "Thursday is a regular day.\n",
      "Friday is a regular day.\n",
      "Saturday is a regular day.\n",
      "Sunday is a regular day.\n",
      "Monday is a regular day.\n",
      "Tuesday is a regular day.\n",
      "Wednesday is a regular day.\n",
      "Thursday is a regular day.\n",
      "Friday is a regular day.\n",
      "Saturday is a regular day.\n",
      "Sunday is a regular day.\n",
      "Monday is a regular day.\n",
      "Tuesday is a regular day.\n",
      "Wednesday is a regular day.\n",
      "Thursday is a regular day.\n",
      "Friday is a regular day.\n",
      "Saturday is a regular day.\n",
      "Sunday is a regular day.\n",
      "Monday is a regular day.\n",
      "Tuesday is a regular day.\n",
      "Wednesday is a regular day.\n",
      "Thursday is a regular day.\n",
      "Friday is a regular day.\n",
      "Saturday is a regular day.\n",
      "Sunday is a regular day.\n",
      "Monday is a regular day.\n",
      "Tuesday is a regular day.\n",
      "Wednesday is a regular day.\n",
      "Thursday is a regular day.\n",
      "Friday is a regular day.\n",
      "Saturday is a regular day.\n",
      "Sunday is a regular day.\n",
      "Monday is a regular day.\n",
      "Tuesday is a regular day.\n",
      "Wednesday is a snowday!\n"
     ]
    }
   ],
   "source": [
    "n = 0 \n",
    "for x in day_of_week(): \n",
    "    today = snowday() \n",
    "    print(x + \" is a \" + today) \n",
    "    n += 1 \n",
    "    if today == \"snowday!\":\n",
    "        break "
   ]
  },
  {
   "cell_type": "code",
   "execution_count": 8,
   "metadata": {
    "collapsed": true
   },
   "outputs": [],
   "source": [
    "weekday = (day for day in day_of_week())"
   ]
  },
  {
   "cell_type": "code",
   "execution_count": 9,
   "metadata": {},
   "outputs": [
    {
     "data": {
      "text/plain": [
       "'Monday'"
      ]
     },
     "execution_count": 9,
     "metadata": {},
     "output_type": "execute_result"
    }
   ],
   "source": [
    "next(weekday) "
   ]
  },
  {
   "cell_type": "markdown",
   "metadata": {},
   "source": [
    "## Es. 2 - Gestione di un gioco di carte (Poker)\n",
    "\n",
    "Facciamo finta di voler sviluppare un'app per il gioco del Poker.\n",
    "\n",
    "Definiamo liste per punti e semi"
   ]
  },
  {
   "cell_type": "code",
   "execution_count": 10,
   "metadata": {
    "collapsed": true
   },
   "outputs": [],
   "source": [
    "punti = ['A', 'K', 'Q', 'J', '10', '9', '8', '7', '6', '5', '4', '3', '2']\n",
    "semi = ['C', 'Q', 'F', 'P']"
   ]
  },
  {
   "cell_type": "markdown",
   "metadata": {},
   "source": [
    "Un generator sulle carte, come nella realtà che si consumi quando le carte sono usate."
   ]
  },
  {
   "cell_type": "code",
   "execution_count": 11,
   "metadata": {
    "collapsed": true
   },
   "outputs": [],
   "source": [
    "def carte():\n",
    "    \"\"\"Return a generator that yields playing cards.\"\"\"\n",
    "    for p in punti:\n",
    "        for s in semi:\n",
    "            yield p, s"
   ]
  },
  {
   "cell_type": "code",
   "execution_count": 17,
   "metadata": {},
   "outputs": [
    {
     "data": {
      "text/plain": [
       "<generator object <genexpr> at 0x00000183323DFBF8>"
      ]
     },
     "execution_count": 17,
     "metadata": {},
     "output_type": "execute_result"
    }
   ],
   "source": [
    "carte = ((p, s) for p in punti for s in semi)\n",
    "carte"
   ]
  },
  {
   "cell_type": "code",
   "execution_count": 18,
   "metadata": {},
   "outputs": [],
   "source": [
    "import itertools\n",
    "carte = itertools.product(punti, semi)"
   ]
  },
  {
   "cell_type": "code",
   "execution_count": 19,
   "metadata": {
    "collapsed": true
   },
   "outputs": [],
   "source": [
    "import random\n",
    "\n",
    "def mischia(mazzo):\n",
    "    \"\"\"Restituisce un iteratore sul mazzo mischiato\"\"\"\n",
    "    mazzo = list(mazzo)\n",
    "    random.shuffle(mazzo)\n",
    "    return iter(tuple(mazzo))\n",
    "\n",
    "carte = mischia(carte)"
   ]
  },
  {
   "cell_type": "code",
   "execution_count": 20,
   "metadata": {},
   "outputs": [],
   "source": [
    "def taglia(mazzo, n):\n",
    "    \"\"\"Restituisce un iteratore su mazzo, tagliato all'indice `n`\"\"\"\n",
    "    mazzo1, mazzo2 = itertools.tee(mazzo, 2)\n",
    "    sopra = itertools.islice(mazzo1, n)\n",
    "    sotto = itertools.islice(mazzo2, n, None)\n",
    "    return itertools.chain(sopra, sotto)\n",
    "\n",
    "carte = taglia(carte, 26)"
   ]
  },
  {
   "cell_type": "code",
   "execution_count": 21,
   "metadata": {
    "collapsed": true
   },
   "outputs": [],
   "source": [
    "def distribuisci(mazzo, num_mani=1, num_persone_giocanti=5):\n",
    "    iters = [iter(mazzo)] * num_persone_giocanti\n",
    "    return tuple(zip(*(tuple(itertools.islice(itr, num_mani)) for itr in iters)))"
   ]
  },
  {
   "cell_type": "code",
   "execution_count": 22,
   "metadata": {},
   "outputs": [
    {
     "data": {
      "text/plain": [
       "(('4', 'P'), ('10', 'F'), ('7', 'C'), ('Q', 'P'), ('2', 'P'))"
      ]
     },
     "execution_count": 22,
     "metadata": {},
     "output_type": "execute_result"
    }
   ],
   "source": [
    "p1_hand, p2_hand, p3_hand = distribuisci(carte, num_mani=3)\n",
    "p1_hand"
   ]
  },
  {
   "cell_type": "code",
   "execution_count": 23,
   "metadata": {},
   "outputs": [
    {
     "data": {
      "text/plain": [
       "(('K', 'C'), ('A', 'F'), ('3', 'F'), ('Q', 'F'), ('J', 'F'))"
      ]
     },
     "execution_count": 23,
     "metadata": {},
     "output_type": "execute_result"
    }
   ],
   "source": [
    "p2_hand"
   ]
  },
  {
   "cell_type": "code",
   "execution_count": 24,
   "metadata": {},
   "outputs": [
    {
     "data": {
      "text/plain": [
       "(('10', 'P'), ('A', 'C'), ('10', 'Q'), ('J', 'P'), ('7', 'F'))"
      ]
     },
     "execution_count": 24,
     "metadata": {},
     "output_type": "execute_result"
    }
   ],
   "source": [
    "p3_hand"
   ]
  },
  {
   "cell_type": "code",
   "execution_count": 25,
   "metadata": {},
   "outputs": [
    {
     "data": {
      "text/plain": [
       "37"
      ]
     },
     "execution_count": 25,
     "metadata": {},
     "output_type": "execute_result"
    }
   ],
   "source": [
    "len(tuple(carte))"
   ]
  },
  {
   "cell_type": "markdown",
   "metadata": {},
   "source": [
    "Le carte sono \"consumate\"; lo stato dell'iteratore carte riflette il gioco, che è esattamente quello che vogliamo!"
   ]
  },
  {
   "cell_type": "markdown",
   "metadata": {},
   "source": [
    "# Bibliografia\n",
    "\n",
    "https://realpython.com/python-itertools/"
   ]
  }
 ],
 "metadata": {
  "kernelspec": {
   "display_name": "Python [conda env:django]",
   "language": "python",
   "name": "conda-env-django-py"
  },
  "language_info": {
   "codemirror_mode": {
    "name": "ipython",
    "version": 3
   },
   "file_extension": ".py",
   "mimetype": "text/x-python",
   "name": "python",
   "nbconvert_exporter": "python",
   "pygments_lexer": "ipython3",
   "version": "3.6.2"
  },
  "toc": {
   "base_numbering": 1,
   "nav_menu": {},
   "number_sections": true,
   "sideBar": true,
   "skip_h1_title": false,
   "title_cell": "Table of Contents",
   "title_sidebar": "Contents",
   "toc_cell": false,
   "toc_position": {},
   "toc_section_display": true,
   "toc_window_display": false
  }
 },
 "nbformat": 4,
 "nbformat_minor": 2
}
